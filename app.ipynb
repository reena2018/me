{
 "cells": [
  {
   "cell_type": "code",
   "execution_count": null,
   "metadata": {
    "scrolled": true
   },
   "outputs": [
    {
     "name": "stdout",
     "output_type": "stream",
     "text": [
      "Loading DCNN and Flask starting server...please wait until server has fully started\n",
      " * Serving Flask app \"__main__\" (lazy loading)\n",
      " * Environment: production\n",
      "\u001b[31m   WARNING: This is a development server. Do not use it in a production deployment.\u001b[0m\n",
      "\u001b[2m   Use a production WSGI server instead.\u001b[0m\n",
      " * Debug mode: off\n"
     ]
    },
    {
     "name": "stderr",
     "output_type": "stream",
     "text": [
      " * Running on all addresses.\n",
      "   WARNING: This is a development server. Do not use it in a production deployment.\n",
      " * Running on http://192.168.0.197:9090/ (Press CTRL+C to quit)\n",
      "192.168.0.197 - - [13/Apr/2022 07:52:03] \"GET / HTTP/1.1\" 404 -\n",
      "192.168.0.197 - - [13/Apr/2022 07:52:04] \"GET /favicon.ico HTTP/1.1\" 404 -\n",
      "192.168.0.197 - - [13/Apr/2022 07:52:10] \"GET /selectfiles HTTP/1.1\" 200 -\n",
      "192.168.0.197 - - [13/Apr/2022 07:52:10] \"GET /static/css/main.css HTTP/1.1\" 200 -\n",
      "192.168.0.197 - - [13/Apr/2022 07:52:10] \"GET /static/images/script_background.png HTTP/1.1\" 404 -\n"
     ]
    },
    {
     "name": "stdout",
     "output_type": "stream",
     "text": [
      ".docx\n"
     ]
    },
    {
     "data": {
      "application/vnd.jupyter.widget-view+json": {
       "model_id": "e710f2d002e94e82bae8e4afb05ad74d",
       "version_major": 2,
       "version_minor": 0
      },
      "text/plain": [
       "  0%|          | 0/1 [00:00<?, ?it/s]"
      ]
     },
     "metadata": {},
     "output_type": "display_data"
    },
    {
     "name": "stderr",
     "output_type": "stream",
     "text": [
      "C:\\Users\\disha\\AppData\\Local\\Temp/ipykernel_15624/185939347.py:56: FutureWarning: The default value of regex will change from True to False in a future version. In addition, single character regular expressions will *not* be treated as literal strings when regex=True.\n",
      "  df['content'] = df['content'].str.replace(char, ' ')\n"
     ]
    },
    {
     "name": "stdout",
     "output_type": "stream",
     "text": [
      "y_pred:  [[0.5726998  0.45695817 0.4841933 ]]\n",
      "docCategory: Public\n",
      ".docx\n"
     ]
    },
    {
     "data": {
      "application/vnd.jupyter.widget-view+json": {
       "model_id": "50b0afa46fee4298929115ea60f45c36",
       "version_major": 2,
       "version_minor": 0
      },
      "text/plain": [
       "  0%|          | 0/1 [00:00<?, ?it/s]"
      ]
     },
     "metadata": {},
     "output_type": "display_data"
    },
    {
     "name": "stdout",
     "output_type": "stream",
     "text": [
      "y_pred:  [[0.28622955 0.26376683 0.5990296 ]]\n",
      "docCategory: Confidential\n",
      ".docx\n"
     ]
    },
    {
     "data": {
      "application/vnd.jupyter.widget-view+json": {
       "model_id": "b50a55f3d9844c079172c68ea5a55581",
       "version_major": 2,
       "version_minor": 0
      },
      "text/plain": [
       "  0%|          | 0/1 [00:00<?, ?it/s]"
      ]
     },
     "metadata": {},
     "output_type": "display_data"
    },
    {
     "name": "stdout",
     "output_type": "stream",
     "text": [
      "y_pred:  [[0.5076379  0.38886797 0.50690025]]\n",
      "docCategory: Public\n",
      ".pdf\n",
      "y_pred:  [[0.45981643 0.4621031  0.55954236]]\n",
      "docCategory: Confidential\n",
      ".docx\n"
     ]
    },
    {
     "data": {
      "application/vnd.jupyter.widget-view+json": {
       "model_id": "333b939e82cd4f258265827c21f5d90a",
       "version_major": 2,
       "version_minor": 0
      },
      "text/plain": [
       "  0%|          | 0/1 [00:00<?, ?it/s]"
      ]
     },
     "metadata": {},
     "output_type": "display_data"
    },
    {
     "name": "stdout",
     "output_type": "stream",
     "text": [
      "y_pred:  [[0.51635855 0.4093312  0.4989858 ]]\n",
      "docCategory: Public\n",
      ".docx\n"
     ]
    },
    {
     "data": {
      "application/vnd.jupyter.widget-view+json": {
       "model_id": "353fd4c2593145a7b80bd994df83fa9d",
       "version_major": 2,
       "version_minor": 0
      },
      "text/plain": [
       "  0%|          | 0/1 [00:00<?, ?it/s]"
      ]
     },
     "metadata": {},
     "output_type": "display_data"
    },
    {
     "name": "stdout",
     "output_type": "stream",
     "text": [
      "y_pred:  [[0.52156675 0.37169415 0.47824478]]\n",
      "docCategory: Public\n",
      ".xlsx\n"
     ]
    },
    {
     "name": "stderr",
     "output_type": "stream",
     "text": [
      "C:\\Users\\disha\\AppData\\Local\\Temp/ipykernel_15624/185939347.py:56: FutureWarning: The default value of regex will change from True to False in a future version. In addition, single character regular expressions will *not* be treated as literal strings when regex=True.\n",
      "  df['content'] = df['content'].str.replace(char, ' ')\n"
     ]
    },
    {
     "name": "stdout",
     "output_type": "stream",
     "text": [
      "y_pred:  [[0.41628128 0.540142   0.59522957]]\n",
      "docCategory: Confidential\n",
      ".pdf\n",
      "y_pred:  [[0.39093205 0.3802577  0.55971223]]\n",
      "docCategory: Confidential\n",
      ".pdf\n",
      "y_pred:  [[0.5395212  0.45389116 0.5037206 ]]\n",
      "docCategory: Public\n",
      ".pdf\n",
      "y_pred:  [[0.44763243 0.48496914 0.549181  ]]\n",
      "docCategory: Confidential\n",
      ".pdf\n",
      "y_pred:  [[0.44763243 0.48496914 0.549181  ]]\n",
      "docCategory: Confidential\n",
      ".pdf\n",
      "y_pred:  [[0.44763243 0.48496914 0.549181  ]]\n",
      "docCategory: Confidential\n",
      ".pdf\n",
      "y_pred:  [[0.44763243 0.48496914 0.549181  ]]\n",
      "docCategory: Confidential\n",
      ".pdf\n",
      "y_pred:  [[0.5892679 0.4407937 0.4716242]]\n",
      "docCategory: Public\n",
      ".docx\n"
     ]
    },
    {
     "data": {
      "application/vnd.jupyter.widget-view+json": {
       "model_id": "8065b56d05354aeaaae921b71b230cb7",
       "version_major": 2,
       "version_minor": 0
      },
      "text/plain": [
       "  0%|          | 0/1 [00:00<?, ?it/s]"
      ]
     },
     "metadata": {},
     "output_type": "display_data"
    },
    {
     "name": "stdout",
     "output_type": "stream",
     "text": [
      "y_pred:  [[0.5323969  0.4280356  0.49558035]]\n",
      "docCategory: Public\n",
      ".docx\n"
     ]
    },
    {
     "data": {
      "application/vnd.jupyter.widget-view+json": {
       "model_id": "794240dec289442abdcd54db94b6c78c",
       "version_major": 2,
       "version_minor": 0
      },
      "text/plain": [
       "  0%|          | 0/1 [00:00<?, ?it/s]"
      ]
     },
     "metadata": {},
     "output_type": "display_data"
    },
    {
     "name": "stdout",
     "output_type": "stream",
     "text": [
      "y_pred:  [[0.5021175  0.44226158 0.5244861 ]]\n",
      "docCategory: Confidential\n",
      ".docx\n"
     ]
    },
    {
     "data": {
      "application/vnd.jupyter.widget-view+json": {
       "model_id": "d6b9877314794c81a2e5f9f04ce07850",
       "version_major": 2,
       "version_minor": 0
      },
      "text/plain": [
       "  0%|          | 0/1 [00:00<?, ?it/s]"
      ]
     },
     "metadata": {},
     "output_type": "display_data"
    },
    {
     "name": "stdout",
     "output_type": "stream",
     "text": [
      "y_pred:  [[0.55520487 0.64327836 0.6016597 ]]\n",
      "docCategory: Private\n",
      ".pdf\n",
      "y_pred:  [[0.50041246 0.4357291  0.52404505]]\n",
      "docCategory: Confidential\n",
      ".pdf\n",
      "y_pred:  [[0.4503647  0.37389487 0.52429354]]\n",
      "docCategory: Confidential\n",
      ".pdf\n",
      "y_pred:  [[0.44763243 0.48496914 0.549181  ]]\n",
      "docCategory: Confidential\n",
      ".pdf\n",
      "y_pred:  [[0.44763243 0.48496914 0.549181  ]]\n",
      "docCategory: Confidential\n",
      ".pdf\n",
      "y_pred:  [[0.44763243 0.48496914 0.549181  ]]\n",
      "docCategory: Confidential\n",
      ".pdf\n",
      "y_pred:  [[0.44763243 0.48496914 0.549181  ]]\n",
      "docCategory: Confidential\n",
      ".pdf\n",
      "y_pred:  [[0.44763243 0.48496914 0.549181  ]]\n",
      "docCategory: Confidential\n",
      ".pdf\n",
      "y_pred:  [[0.44763243 0.48496914 0.549181  ]]\n",
      "docCategory: Confidential\n",
      ".pdf\n",
      "y_pred:  [[0.44763243 0.48496914 0.549181  ]]\n",
      "docCategory: Confidential\n",
      ".pdf\n",
      "y_pred:  [[0.5447906  0.41477883 0.48454067]]\n",
      "docCategory: Public\n",
      ".pdf\n",
      "y_pred:  [[0.40309203 0.40951282 0.574381  ]]\n",
      "docCategory: Confidential\n",
      ".doc\n",
      "y_pred:  [[0.44763243 0.48496914 0.549181  ]]\n",
      "docCategory: Confidential\n",
      ".docx\n"
     ]
    },
    {
     "data": {
      "application/vnd.jupyter.widget-view+json": {
       "model_id": "6f417896003f41f3a7dce858007dd5af",
       "version_major": 2,
       "version_minor": 0
      },
      "text/plain": [
       "  0%|          | 0/1 [00:00<?, ?it/s]"
      ]
     },
     "metadata": {},
     "output_type": "display_data"
    },
    {
     "name": "stdout",
     "output_type": "stream",
     "text": [
      "y_pred:  [[0.46792594 0.41831142 0.5285881 ]]\n",
      "docCategory: Confidential\n",
      ".pdf\n",
      "y_pred:  [[0.52797765 0.4504402  0.5177697 ]]\n",
      "docCategory: Public\n",
      ".pdf\n",
      "y_pred:  [[0.28741038 0.2439821  0.58455396]]\n",
      "docCategory: Confidential\n",
      ".pdf\n",
      "y_pred:  [[0.7794057  0.37714878 0.3352645 ]]\n",
      "docCategory: Public\n",
      ".pdf\n",
      "y_pred:  [[0.50595886 0.43505484 0.5189936 ]]\n",
      "docCategory: Confidential\n",
      ".xlsx\n"
     ]
    },
    {
     "name": "stderr",
     "output_type": "stream",
     "text": [
      "C:\\Users\\disha\\AppData\\Local\\Temp/ipykernel_15624/185939347.py:56: FutureWarning: The default value of regex will change from True to False in a future version. In addition, single character regular expressions will *not* be treated as literal strings when regex=True.\n",
      "  df['content'] = df['content'].str.replace(char, ' ')\n"
     ]
    },
    {
     "name": "stdout",
     "output_type": "stream",
     "text": [
      "y_pred:  [[0.5354158  0.42827675 0.4936454 ]]\n",
      "docCategory: Public\n",
      ".xlsx\n"
     ]
    },
    {
     "name": "stderr",
     "output_type": "stream",
     "text": [
      "C:\\Users\\disha\\AppData\\Local\\Temp/ipykernel_15624/185939347.py:56: FutureWarning: The default value of regex will change from True to False in a future version. In addition, single character regular expressions will *not* be treated as literal strings when regex=True.\n",
      "  df['content'] = df['content'].str.replace(char, ' ')\n"
     ]
    },
    {
     "name": "stdout",
     "output_type": "stream",
     "text": [
      "y_pred:  [[0.31576186 0.469736   0.6502137 ]]\n",
      "docCategory: Confidential\n",
      ".pdf\n",
      "y_pred:  [[0.4145329 0.4114222 0.5632884]]\n",
      "docCategory: Confidential\n",
      ".pdf\n",
      "y_pred:  [[0.46807706 0.42188954 0.542937  ]]\n",
      "docCategory: Confidential\n",
      ".pdf\n",
      "y_pred:  [[0.5284669  0.39672276 0.49738342]]\n",
      "docCategory: Public\n",
      ".docx\n"
     ]
    },
    {
     "data": {
      "application/vnd.jupyter.widget-view+json": {
       "model_id": "76c56573543c471f8dae97b9e28bc567",
       "version_major": 2,
       "version_minor": 0
      },
      "text/plain": [
       "  0%|          | 0/1 [00:00<?, ?it/s]"
      ]
     },
     "metadata": {},
     "output_type": "display_data"
    },
    {
     "name": "stdout",
     "output_type": "stream",
     "text": [
      "y_pred:  [[0.57740426 0.48186782 0.49724647]]\n",
      "docCategory: Public\n",
      ".docx\n"
     ]
    },
    {
     "data": {
      "application/vnd.jupyter.widget-view+json": {
       "model_id": "a8c2b83af2db48aa9437dc53181a86c7",
       "version_major": 2,
       "version_minor": 0
      },
      "text/plain": [
       "  0%|          | 0/1 [00:00<?, ?it/s]"
      ]
     },
     "metadata": {},
     "output_type": "display_data"
    },
    {
     "name": "stdout",
     "output_type": "stream",
     "text": [
      "y_pred:  [[0.38169354 0.3439547  0.5606374 ]]\n",
      "docCategory: Confidential\n",
      ".pdf\n",
      "y_pred:  [[0.33804193 0.4826333  0.63526845]]\n",
      "docCategory: Confidential\n",
      ".pdf\n",
      "y_pred:  [[0.33804193 0.4826333  0.63526845]]\n",
      "docCategory: Confidential\n",
      ".docx\n"
     ]
    },
    {
     "data": {
      "application/vnd.jupyter.widget-view+json": {
       "model_id": "d28bd5a9f7834bb796ccc0eeadff3bb4",
       "version_major": 2,
       "version_minor": 0
      },
      "text/plain": [
       "  0%|          | 0/1 [00:00<?, ?it/s]"
      ]
     },
     "metadata": {},
     "output_type": "display_data"
    },
    {
     "name": "stdout",
     "output_type": "stream",
     "text": [
      "y_pred:  [[0.3736049  0.38528368 0.59563637]]\n",
      "docCategory: Confidential\n",
      ".pdf\n",
      "y_pred:  [[0.56074995 0.5075308  0.51848274]]\n",
      "docCategory: Public\n",
      ".pdf\n",
      "y_pred:  [[0.4251212  0.40071923 0.55702937]]\n",
      "docCategory: Confidential\n",
      ".pdf\n",
      "y_pred:  [[0.44763243 0.48496914 0.549181  ]]\n",
      "docCategory: Confidential\n",
      ".pdf\n",
      "y_pred:  [[0.3537051  0.460615   0.64335054]]\n",
      "docCategory: Confidential\n",
      ".pdf\n",
      "y_pred:  [[0.44763243 0.48496914 0.549181  ]]\n",
      "docCategory: Confidential\n",
      ".pdf\n",
      "y_pred:  [[0.5504359  0.56321067 0.55313474]]\n",
      "docCategory: Private\n",
      ".pdf\n",
      "y_pred:  [[0.5504359  0.56321067 0.55313474]]\n",
      "docCategory: Private\n",
      ".pdf\n",
      "y_pred:  [[0.44763243 0.48496914 0.549181  ]]\n",
      "docCategory: Confidential\n",
      ".pdf\n",
      "y_pred:  [[0.52646303 0.40881512 0.4862433 ]]\n",
      "docCategory: Public\n",
      ".pdf\n",
      "y_pred:  [[0.46361524 0.40382078 0.52485436]]\n",
      "docCategory: Confidential\n",
      ".pdf\n",
      "y_pred:  [[0.7121802  0.6860228  0.54205257]]\n",
      "docCategory: Public\n",
      ".pdf\n",
      "y_pred:  [[0.44763243 0.48496914 0.549181  ]]\n",
      "docCategory: Confidential\n",
      ".pdf\n",
      "y_pred:  [[0.44763243 0.48496914 0.549181  ]]\n",
      "docCategory: Confidential\n",
      ".pdf\n",
      "y_pred:  [[0.44763243 0.48496914 0.549181  ]]\n",
      "docCategory: Confidential\n",
      ".docx\n"
     ]
    },
    {
     "data": {
      "application/vnd.jupyter.widget-view+json": {
       "model_id": "54fd86186b0a4354b146cf64d8edd0dc",
       "version_major": 2,
       "version_minor": 0
      },
      "text/plain": [
       "  0%|          | 0/1 [00:00<?, ?it/s]"
      ]
     },
     "metadata": {},
     "output_type": "display_data"
    },
    {
     "name": "stdout",
     "output_type": "stream",
     "text": [
      "y_pred:  [[0.2513851  0.26724997 0.623335  ]]\n",
      "docCategory: Confidential\n",
      ".docx\n"
     ]
    },
    {
     "data": {
      "application/vnd.jupyter.widget-view+json": {
       "model_id": "a85c39d6c0c44c36a8ac360fea5147d4",
       "version_major": 2,
       "version_minor": 0
      },
      "text/plain": [
       "  0%|          | 0/1 [00:00<?, ?it/s]"
      ]
     },
     "metadata": {},
     "output_type": "display_data"
    },
    {
     "name": "stdout",
     "output_type": "stream",
     "text": [
      "y_pred:  [[0.29828066 0.3555061  0.625556  ]]\n",
      "docCategory: Confidential\n",
      ".pdf\n",
      "y_pred:  [[0.55716777 0.44321048 0.48742115]]\n",
      "docCategory: Public\n",
      ".pdf\n",
      "y_pred:  [[0.3651772  0.47655278 0.66026014]]\n",
      "docCategory: Confidential\n",
      ".pdf\n",
      "y_pred:  [[0.44763243 0.48496914 0.549181  ]]\n",
      "docCategory: Confidential\n",
      ".pdf\n",
      "y_pred:  [[0.44763243 0.48496914 0.549181  ]]\n",
      "docCategory: Confidential\n",
      ".pdf\n",
      "y_pred:  [[0.33804193 0.4826333  0.63526845]]\n",
      "docCategory: Confidential\n",
      ".docx\n"
     ]
    },
    {
     "data": {
      "application/vnd.jupyter.widget-view+json": {
       "model_id": "c18f98aabd3645b68227f768b7887071",
       "version_major": 2,
       "version_minor": 0
      },
      "text/plain": [
       "  0%|          | 0/1 [00:00<?, ?it/s]"
      ]
     },
     "metadata": {},
     "output_type": "display_data"
    },
    {
     "name": "stdout",
     "output_type": "stream",
     "text": [
      "y_pred:  [[0.5331139  0.57268614 0.5834077 ]]\n",
      "docCategory: Confidential\n",
      ".pdf\n",
      "y_pred:  [[0.53126556 0.50231165 0.5442172 ]]\n",
      "docCategory: Confidential\n",
      ".rtf\n",
      "y_pred:  [[0.44763243 0.48496914 0.549181  ]]\n",
      "docCategory: Confidential\n",
      ".pdf\n",
      "y_pred:  [[0.21373406 0.24511448 0.6410127 ]]\n",
      "docCategory: Confidential\n",
      ".docx\n"
     ]
    },
    {
     "data": {
      "application/vnd.jupyter.widget-view+json": {
       "model_id": "f997262a6f674efca27b6a1d0f5f9ee2",
       "version_major": 2,
       "version_minor": 0
      },
      "text/plain": [
       "  0%|          | 0/1 [00:00<?, ?it/s]"
      ]
     },
     "metadata": {},
     "output_type": "display_data"
    },
    {
     "name": "stdout",
     "output_type": "stream",
     "text": [
      "y_pred:  [[0.58706754 0.4300145  0.4672076 ]]\n",
      "docCategory: Public\n",
      ".pdf\n",
      "y_pred:  [[0.3183018 0.4518428 0.6425329]]\n",
      "docCategory: Confidential\n",
      "                                            File name      Category\n",
      "0        0. DL-2021-22-Odd-sem-Course File index.docx        Public\n",
      "1                    1. Institute Vision Mission.docx  Confidential\n",
      "2                                 2. IT MV Final.docx        Public\n",
      "3                                  3. AT Syllabus.pdf  Confidential\n",
      "4   5. Automata Theory University Question Papers....        Public\n",
      "..                                                ...           ...\n",
      "66              TEIT Roll List Batch wise 2021-22.pdf  Confidential\n",
      "67                       The Nationalist Movement.rtf  Confidential\n",
      "68                                     Time Table.pdf  Confidential\n",
      "69              Updated Institute Mission Vision.docx        Public\n",
      "70                              VIII NEW PDF 2021.pdf  Confidential\n",
      "\n",
      "[71 rows x 2 columns]\n"
     ]
    },
    {
     "name": "stderr",
     "output_type": "stream",
     "text": [
      "192.168.0.197 - - [13/Apr/2022 08:06:21] \"POST /selectfiles HTTP/1.1\" 200 -\n",
      "192.168.0.197 - - [13/Apr/2022 08:06:21] \"GET /static/images/script_background.png HTTP/1.1\" 404 -\n",
      "192.168.0.197 - - [13/Apr/2022 08:10:55] \"GET /selectfiles HTTP/1.1\" 200 -\n"
     ]
    },
    {
     "name": "stdout",
     "output_type": "stream",
     "text": [
      ".pdf\n"
     ]
    },
    {
     "name": "stderr",
     "output_type": "stream",
     "text": [
      "C:\\Users\\disha\\AppData\\Local\\Temp/ipykernel_15624/185939347.py:56: FutureWarning: The default value of regex will change from True to False in a future version. In addition, single character regular expressions will *not* be treated as literal strings when regex=True.\n",
      "  df['content'] = df['content'].str.replace(char, ' ')\n"
     ]
    },
    {
     "name": "stdout",
     "output_type": "stream",
     "text": [
      "y_pred:  [[0.7794057  0.37714878 0.3352645 ]]\n",
      "docCategory: Public\n",
      ".pdf\n",
      "y_pred:  [[0.5504359  0.56321067 0.55313474]]\n",
      "docCategory: Private\n",
      ".docx\n"
     ]
    },
    {
     "data": {
      "application/vnd.jupyter.widget-view+json": {
       "model_id": "8b95da1a8b924f1189ac3e8635cc8fad",
       "version_major": 2,
       "version_minor": 0
      },
      "text/plain": [
       "  0%|          | 0/1 [00:00<?, ?it/s]"
      ]
     },
     "metadata": {},
     "output_type": "display_data"
    },
    {
     "name": "stderr",
     "output_type": "stream",
     "text": [
      "192.168.0.197 - - [13/Apr/2022 08:12:04] \"POST /selectfiles HTTP/1.1\" 200 -\n",
      "192.168.0.197 - - [13/Apr/2022 08:12:04] \"GET /static/images/script_background.png HTTP/1.1\" 404 -\n"
     ]
    },
    {
     "name": "stdout",
     "output_type": "stream",
     "text": [
      "y_pred:  [[0.2513851  0.26724997 0.623335  ]]\n",
      "docCategory: Confidential\n",
      "                           File name      Category\n",
      "0  Deep Learning Theory Syllabus.pdf        Public\n",
      "1             Prerequisite Marks.pdf       Private\n",
      "2                 Salary-Slip-2.docx  Confidential\n"
     ]
    },
    {
     "name": "stderr",
     "output_type": "stream",
     "text": [
      "192.168.0.197 - - [13/Apr/2022 08:12:18] \"GET /selectfiles HTTP/1.1\" 200 -\n"
     ]
    },
    {
     "name": "stdout",
     "output_type": "stream",
     "text": [
      ".pdf\n"
     ]
    },
    {
     "name": "stderr",
     "output_type": "stream",
     "text": [
      "C:\\Users\\disha\\AppData\\Local\\Temp/ipykernel_15624/185939347.py:56: FutureWarning: The default value of regex will change from True to False in a future version. In addition, single character regular expressions will *not* be treated as literal strings when regex=True.\n",
      "  df['content'] = df['content'].str.replace(char, ' ')\n"
     ]
    },
    {
     "name": "stdout",
     "output_type": "stream",
     "text": [
      "y_pred:  [[0.7794057  0.37714878 0.3352645 ]]\n",
      "docCategory: Public\n",
      ".pdf\n",
      "y_pred:  [[0.5504359  0.56321067 0.55313474]]\n",
      "docCategory: Private\n",
      ".docx\n"
     ]
    },
    {
     "data": {
      "application/vnd.jupyter.widget-view+json": {
       "model_id": "c25bcfc2181f49b48616526b0dc21661",
       "version_major": 2,
       "version_minor": 0
      },
      "text/plain": [
       "  0%|          | 0/1 [00:00<?, ?it/s]"
      ]
     },
     "metadata": {},
     "output_type": "display_data"
    },
    {
     "name": "stderr",
     "output_type": "stream",
     "text": [
      "192.168.0.197 - - [13/Apr/2022 08:15:23] \"POST /selectfiles HTTP/1.1\" 200 -\n",
      "192.168.0.197 - - [13/Apr/2022 08:15:23] \"GET /static/images/script_background.png HTTP/1.1\" 404 -\n"
     ]
    },
    {
     "name": "stdout",
     "output_type": "stream",
     "text": [
      "y_pred:  [[0.2513851  0.26724997 0.623335  ]]\n",
      "docCategory: Confidential\n",
      "                           File name      Category\n",
      "0  Deep Learning Theory Syllabus.pdf        Public\n",
      "1             Prerequisite Marks.pdf       Private\n",
      "2                 Salary-Slip-2.docx  Confidential\n"
     ]
    },
    {
     "name": "stderr",
     "output_type": "stream",
     "text": [
      "192.168.0.197 - - [13/Apr/2022 08:31:51] \"GET /selectfiles HTTP/1.1\" 200 -\n",
      "192.168.0.197 - - [13/Apr/2022 08:31:51] \"GET /static/images/script_background.png HTTP/1.1\" 404 -\n"
     ]
    }
   ],
   "source": [
    "from flask import Flask, render_template, request\n",
    "from wtforms import (Form, FileField, StringField, TextAreaField, validators, SubmitField, IntegerField, MultipleFileField)\n",
    "from keras.models import load_model\n",
    "import tensorflow as tf\n",
    "import html\n",
    "import nltk\n",
    "from nltk.corpus import stopwords\n",
    "from nltk.tokenize import word_tokenize\n",
    "from keras.preprocessing.text import Tokenizer\n",
    "from keras.preprocessing.sequence import pad_sequences\n",
    "import pandas as pd\n",
    "from sklearn.preprocessing import LabelEncoder\n",
    "import pdfplumber\n",
    "from docx2pdf import convert\n",
    "import os\n",
    "import pandas as pd\n",
    "import pythoncom\n",
    "\n",
    "# Create app\n",
    "app = Flask(__name__)\n",
    "\n",
    "class ReusableForm1(Form):\n",
    "    \"\"\"Document Classifier - DCNN Model\"\"\"\n",
    "    #Document name\n",
    "    docName = StringField(u'Enter document name:', validators=[\n",
    "                     validators.InputRequired()])\n",
    "    # Document content\n",
    "    docContent = TextAreaField(u'Enter document content:', validators=[\n",
    "                     validators.InputRequired()])\n",
    "    \n",
    "    # Submit button\n",
    "    submit1 = SubmitField(\"Submit\")\n",
    "\n",
    "class ReusableForm2(Form):\n",
    "    \"\"\"Document Classifier - DCNN Model\"\"\"\n",
    "    #Document name\n",
    "    docFiles = MultipleFileField(u'', validators=[\n",
    "                     validators.InputRequired()])\n",
    "    \n",
    "    # Submit button\n",
    "    submit2 = SubmitField(\"Submit\")\n",
    "    \n",
    "def load_dcnn_model():\n",
    "    \"\"\"Load in the pre-trained model\"\"\"\n",
    "    global cnnmodel\n",
    "    cnnmodel = load_model('DCNN_Model/dcnnmodel')\n",
    "    \n",
    "\n",
    "def cleanTextAndEmbedings(docContent):\n",
    "    df = pd.DataFrame({'content': [docContent]})\n",
    "    #1. Remove newline characters\n",
    "    df = df.replace(r'\\n', '', regex=True)\n",
    "    #2.Remove spcial characters\n",
    "    spec_chars = [\"!\", '\"', \"#\", \"%\", \"&\", \"'\", \"(\", \")\", \"*\", \"+\", \",\", \"-\", \".\", \"/\", \":\",\";\", \"<\", \"=\", \">\", \"?\", \"@\", \"[\", \"\\\\\", \"]\", \"^\", \"_\", \"`\", \"~\", \"{\", \"|\", \"}\"]\n",
    "    for char in spec_chars:\n",
    "        df['content'] = df['content'].str.replace(char, ' ')\n",
    "    #3.HTML escape characters\n",
    "    df = html.escape(df)\n",
    "    #5. Convert all letters to lowercase\n",
    "    df['content'] = df['content'].str.lower()\n",
    "    #6. Remove stopwords\n",
    "    stop_words = set(stopwords.words('english'))\n",
    "    lst_contents = []\n",
    "    for contents in df['content']:\n",
    "        word_tokens = word_tokenize(contents)\n",
    "        filtered_sentence = []\n",
    "        for w in word_tokens:\n",
    "            if w not in stop_words:\n",
    "                filtered_sentence.append(w)\n",
    "        txt_sentence = \" \".join(filtered_sentence)\n",
    "        lst_contents.append(txt_sentence)\n",
    "    df['content_without_stopwords'] = lst_contents\n",
    "\n",
    "    tokenizer = Tokenizer(num_words=5000,lower=False)\n",
    "    tokenizer.fit_on_texts(df['content_without_stopwords'])\n",
    "    X_test = tokenizer.texts_to_sequences(df['content_without_stopwords'])\n",
    "    X_test = pad_sequences(X_test, padding='post', maxlen=10)\n",
    "    return X_test\n",
    "\n",
    "def extractTextFromPDF(fileName):\n",
    "    textContent=''\n",
    "    with pdfplumber.open(fileName) as pdf:\n",
    "        for page in pdf.pages:\n",
    "            textContent += page.extract_text()\n",
    "    return textContent\n",
    "\n",
    "def covertDOCXToPDF(filename):\n",
    "    split_tup = os.path.splitext(filename)\n",
    "    file_name = split_tup[0]\n",
    "    file_extension = split_tup[1]\n",
    "    pythoncom.CoInitialize()\n",
    "    convert(filename)\n",
    "    return file_name+\".pdf\"\n",
    "\n",
    "def extractTextFromExcel(filename):\n",
    "    df = pd.read_excel(filename, index_col=0)  \n",
    "    textContent=df.to_string()\n",
    "    return textContent\n",
    "\n",
    "# Home page\n",
    "@app.route(\"/index\", methods=['GET', 'POST'])\n",
    "def index():\n",
    "    \"\"\"Home page of app with form\"\"\"\n",
    "    # Create form\n",
    "    form1 = ReusableForm1(request.form)\n",
    "    docCategory=''\n",
    "    # On form entry and all conditions met\n",
    "    if request.method == 'POST' and form1.validate():\n",
    "        # Extract information\n",
    "        docName = request.form['docName']\n",
    "        docContent = request.form['docContent']        \n",
    "        if docName is not None and docContent is not None:\n",
    "            X_test = cleanTextAndEmbedings(docContent);\n",
    "            y_pred=cnnmodel.predict(X_test)\n",
    "            print(\"y_pred: \", y_pred)\n",
    "            if y_pred.argmax()==0:\n",
    "                docCategory='Public'\n",
    "            if y_pred.argmax()==1:\n",
    "                docCategory='Private'\n",
    "            if y_pred.argmax()==2:\n",
    "                docCategory='Confidential'\n",
    "            print(\"docCategory: \"+docCategory)\n",
    "            return render_template('classification_result.html', input=docCategory)           \n",
    "\n",
    "    # Send template information to index.html\n",
    "    return render_template('index.html', form=form1)\n",
    "\n",
    "@app.route('/selectfiles', methods=['GET', 'POST'])\n",
    "def selectfiles():\n",
    "    # Create form\n",
    "    form2 = ReusableForm2(request.form)\n",
    "    repName='./Docs/'\n",
    "    docCategory=''\n",
    "    data = []\n",
    "    # On form entry and all conditions met\n",
    "    if request.method == 'POST' and form2.validate():\n",
    "        if form2.docFiles.data:\n",
    "            files = form2.docFiles.data\n",
    "            for file in files:\n",
    "                split_tup = os.path.splitext(file)\n",
    "                file_name = split_tup[0]\n",
    "                file_extension = split_tup[1]\n",
    "                print(file_extension)\n",
    "                docContent=''\n",
    "                if file_extension== '.pdf':\n",
    "                    docContent = extractTextFromPDF(repName+file)\n",
    "                elif file_extension== '.docx':\n",
    "                    convertedFile = covertDOCXToPDF(repName+file)\n",
    "                    docContent = extractTextFromPDF(convertedFile)\n",
    "                    os.remove(convertedFile)\n",
    "                elif file_extension== '.xlsx':\n",
    "                    docContent = extractTextFromExcel(repName+file)\n",
    "                        \n",
    "                X_test = cleanTextAndEmbedings(docContent)\n",
    "                y_pred=cnnmodel.predict(X_test)\n",
    "                print(\"y_pred: \", y_pred)\n",
    "                if y_pred.argmax()==0:\n",
    "                    docCategory='Public'\n",
    "                if y_pred.argmax()==1:\n",
    "                    docCategory='Private'\n",
    "                if y_pred.argmax()==2:\n",
    "                    docCategory='Confidential'\n",
    "                print(\"docCategory: \"+docCategory)\n",
    "                data.append([file, docCategory])\n",
    "            df = pd.DataFrame(data, columns=['File name', 'Category'])\n",
    "            print(df)\n",
    "            return render_template('multiclassification_result.html',  tables=[df.to_html(classes='data')], titles=df.columns.values)\n",
    "               \n",
    "    return render_template('selectfiles.html', form=form2)\n",
    "\n",
    "if __name__ == \"__main__\":\n",
    "    load_dcnn_model()\n",
    "    app.run(debug=True)"
   ]
  },
  {
   "cell_type": "code",
   "execution_count": null,
   "metadata": {},
   "outputs": [],
   "source": []
  }
 ],
 "metadata": {
  "kernelspec": {
   "display_name": "Python 3",
   "language": "python",
   "name": "python3"
  },
  "language_info": {
   "codemirror_mode": {
    "name": "ipython",
    "version": 3
   },
   "file_extension": ".py",
   "mimetype": "text/x-python",
   "name": "python",
   "nbconvert_exporter": "python",
   "pygments_lexer": "ipython3",
   "version": "3.8.5"
  }
 },
 "nbformat": 4,
 "nbformat_minor": 5
}
